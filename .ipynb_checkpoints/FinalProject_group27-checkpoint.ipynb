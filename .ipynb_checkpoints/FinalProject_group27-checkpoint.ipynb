{
 "cells": [
  {
   "cell_type": "markdown",
   "metadata": {},
   "source": [
    "# COGS 108 - Final Project "
   ]
  },
  {
   "cell_type": "markdown",
   "metadata": {},
   "source": [
    "## Permissions"
   ]
  },
  {
   "cell_type": "markdown",
   "metadata": {},
   "source": [
    "Place an `X` in the appropriate bracket below to specify if you would like your group's project to be made available to the public. (Note that PIDs will be scraped from the public submission, but student names will be included.)\n",
    "\n",
    "* [  ] YES - make available\n",
    "* [  ] NO - keep private"
   ]
  },
  {
   "cell_type": "markdown",
   "metadata": {},
   "source": [
    "# Overview"
   ]
  },
  {
   "cell_type": "markdown",
   "metadata": {},
   "source": [
    "*Fill in your overview here*"
   ]
  },
  {
   "cell_type": "markdown",
   "metadata": {},
   "source": [
    "# Names\n",
    "\n",
    "- Stephen Lee\n",
    "- Jeffrey Lau\n",
    "- Richard Liu\n",
    "- Lance Mashita\n",
    "- Tesia Huang\n"
   ]
  },
  {
   "cell_type": "markdown",
   "metadata": {},
   "source": [
    "# Group Members IDs\n",
    "\n",
    "- A15463469\n",
    "- A13984300\n",
    "- A13496408\n",
    "- A14655621\n",
    "- A13942686\n"
   ]
  },
  {
   "cell_type": "markdown",
   "metadata": {},
   "source": [
    "# Research Question"
   ]
  },
  {
   "cell_type": "markdown",
   "metadata": {},
   "source": [
    "What is the relationship between the number of hospital beds and the mortality rate for states affected by COVID-19 in the US? What are the effects of population age distribution, population density, and the percentage of positive tests on this relationship?"
   ]
  },
  {
   "cell_type": "markdown",
   "metadata": {},
   "source": [
    "## Background and Prior Work"
   ]
  },
  {
   "cell_type": "markdown",
   "metadata": {},
   "source": [
    "COVID-19 is perhaps one of the most pervasive news topics these past few months. This new disease has dramatically impacted how society functions and can be felt by everyone. As a result, our group decided that we would try to help aid with sorting through the vast information (and misinformation) revolving around COVID-19. There have been a lot of projects done on mapping the spread of COVID-19 and extrapolating future infections based on that data. One notable example goes to John Hopkins CSSE department, who helped visualize the spread of COVID-19 across the world1. There has been a lot of talk about ‘social distancing’ to help lower the spread of coronavirus in the hopes that spreading out the cases will increase the ability for hospitals to treat patients effectively. This is extremely important, as this can be a deadly situation for patients without proper healthcare2. It is estimated that 20-60% of the population in the US will be infected by coronavirus by the time the disease has run its course2. It is painfully obvious that hospitals are ill prepared to deal with such drastic spikes in the number of patients. \n",
    "\tKnowing that, we were intrigued by the actual impact hospital size had on COVID-19 mortality rates. We want to hopefully draw out a clearer relationship between the number of hospital beds and the mortality rate in that area. The number of hospital beds correlates to the resources available to treat patients with COVID-19. The more resources available per patient, the more likely they are able to receive adequate treatment2. Helping determine the influences hospital sizes have on mortality rate, and possibly finding other factors that affect the efficacy of hospitals, can help people of interest triage their resources to minimize the negative effects of COVID-19.\n",
    "\n",
    "\n",
    "References (include links):\n",
    "\n",
    "https://coronavirus.jhu.edu/map.html  \n",
    "https://www.healthaffairs.org/do/10.1377/hblog20200317.457910/full/\n"
   ]
  },
  {
   "cell_type": "markdown",
   "metadata": {},
   "source": [
    "# Hypothesis\n"
   ]
  },
  {
   "cell_type": "markdown",
   "metadata": {},
   "source": [
    "We hypothesize that there will be a negative correlation between the number of available hospital beds and the mortality rate for COVID-19 for each state. We predict that states with a higher proportion of elderly and higher population densities will have a higher mortality rate. We also predict that higher positive test percentages will lower the correlation between the number of available hospital beds and mortality rate. We are assuming that more hospital beds means better healthcare for the sick, which would lead to a lower mortality rate. However, a high proportion of elderly, a high population density, and a high positive test rate can lead to a high amount of COVID-19 cases that can overwhelm hospitals and therefore increase the mortality rate."
   ]
  },
  {
   "cell_type": "markdown",
   "metadata": {},
   "source": [
    "# Dataset(s)"
   ]
  },
  {
   "cell_type": "markdown",
   "metadata": {},
   "source": [
    "- Dataset Name: State Hospital Beds and Population\n",
    "- Link to the dataset: https://docs.google.com/spreadsheets/d/1xAyBFTrlxSsTKQS7IDyr_Ah4JLBYj6_HX6ijKdm4fAY/edit#gid=689334536\n",
    "- Number of observations: 51  \n",
    "A dataset that has the total number of hospital beds, adult population, and elderly population by state.\n",
    "\n",
    "\n",
    "- Dataset Name: COVID-19 Data by Date\n",
    "- Link to the dataset: https://github.com/CSSEGISandData/COVID-19/tree/master/csse_covid_19_data/csse_covid_19_daily_reports, https://github.com/CSSEGISandData/COVID-19/tree/master/csse_covid_19_data/csse_covid_19_daily_reports_us\n",
    "- Number of observations: 60  \n",
    "Datasets that contain COVID-19 data by state for each date from Jan 22 to May 9. The data for each day includes the cumulative tests administered, infected, deaths, and mortality rate for each state. \n",
    "\n",
    "\n",
    "- Dataset Name: State Geographic Size\n",
    "- Link to the dataset: https://github.com/jakevdp/data-USstates/blob/master/state-areas.csv\n",
    "- Number of observations: 52  \n",
    "A dataset that has each state's geographic size in square miles.\n",
    "\n",
    "\n",
    "- Dataset Name: State Stay-at-Home Announcement\n",
    "- Link to the dataset: https://covid19.healthdata.org/united-states-of-america\n",
    "- Number of observations: 51  \n",
    "A dataset that has the date of each state's stay-at-home issue, and NaN if no stay-at-home order was issued.\n",
    "\n",
    "\n",
    "We combined all the datasets except the COVID-19 Data by Date into one giant dataset, with 51 observations (one for each state + Washington DC) by merging by state name. We also calculated new columns 'Population Density', 'Proportion of Elderly', 'Positive Test Rate', and 'Mortality Rate' from the data. The COVID-19 Data by Date we left as its own separate datasets, but created a function to easily extract information by date."
   ]
  },
  {
   "cell_type": "markdown",
   "metadata": {},
   "source": [
    "# Setup"
   ]
  },
  {
   "cell_type": "code",
   "execution_count": 1,
   "metadata": {},
   "outputs": [],
   "source": [
    "import pandas as pd\n",
    "import numpy as np\n",
    "\n",
    "# import matplotlib\n",
    "import matplotlib as mpl\n",
    "import matplotlib.pyplot as plt\n",
    "\n",
    "# import statmodels & patsy\n",
    "import patsy\n",
    "import statsmodels.api as sm\n",
    "\n",
    "# Import seaborn\n",
    "import seaborn as sns"
   ]
  },
  {
   "cell_type": "markdown",
   "metadata": {},
   "source": [
    "# Data Cleaning"
   ]
  },
  {
   "cell_type": "markdown",
   "metadata": {},
   "source": [
    "### State Hospital Beds and Population"
   ]
  },
  {
   "cell_type": "markdown",
   "metadata": {},
   "source": [
    "To clean this dataset, first we dropped all unnecessary columns, and only kept the 'HRR', 'Total Hospital Beds', 'Adult Population', and 'Popluation 65+' columns. Then, we renamed the 'HRR' column to state, extracted the first two letters of that column (the state abbreviation), and converted that abbreviation to a state name. Then, casted all numbers to an int."
   ]
  },
  {
   "cell_type": "code",
   "execution_count": 3,
   "metadata": {},
   "outputs": [],
   "source": [
    "# Dataset showing number of hospital beds of and population each state\n",
    "\n",
    "# Downloaded as an excel file \n",
    "# Source: https://docs.google.com/spreadsheets/d/1xAyBFTrlxSsTKQS7IDyr_Ah4JLBYj6_HX6ijKdm4fAY/edit#gid=689334536\n",
    "beds_df = pd.read_excel('/Users/JeffreyLau/Downloads/HRR Scorecard_ 20% _ 40% _ 60%.xlsx').drop(0)\n",
    "\n",
    "# Removing unncessary columns\n",
    "beds_df = beds_df[['HRR', 'Total Hospital Beds', 'Adult Population', 'Population 65+']]\n",
    "\n",
    "# Helper function to strip state abbreviations from HRR region\n",
    "def state_abb_strip(string):\n",
    "    return string[-2:]\n",
    "\n",
    "# Renaming HRR column as 'state'\n",
    "beds_df['HRR'] = beds_df['HRR'].apply(state_abb_strip)\n",
    "beds_df = beds_df.rename(columns={'HRR': 'State'})\n",
    "\n",
    "# Grouping the data by state\n",
    "grouped_beds_df = beds_df.groupby('State').sum()\n",
    "\n",
    "# Replacing state abbreviations with full state name\n",
    "state_abbreviations = {'AK': 'Alaska', 'AL': 'Alabama', 'AZ': 'Arizona', 'AR': 'Arkansas', 'CA': 'California', 'CO': 'Colorado', 'CT': 'Connecticut', 'DE': 'Delaware', 'DC': 'District of Columbia', 'FL': 'Florida', 'GA': 'Georgia', 'HI': 'Hawaii', 'ID': 'Idaho', 'IL': 'Illinois', 'IN': 'Indiana', 'IA': 'Iowa', 'KS': 'Kansas', 'KY': 'Kentucky', 'LA': 'Louisiana', 'ME': 'Maine', 'MD': 'Maryland', 'MA': 'Massachusetts', 'MI': 'Michigan', 'MN': 'Minnesota', 'MS': 'Mississippi', 'MO': 'Missouri', 'MT': 'Montana', 'NE': 'Nebraska', 'NV': 'Nevada', 'NH': 'New Hampshire', 'NJ': 'New Jersey', 'NM': 'New Mexico', 'NY': 'New York', 'NC': 'North Carolina', 'ND': 'North Dakota', 'OH': 'Ohio', 'OK': 'Oklahoma', 'OR': 'Oregon', 'PA': 'Pennsylvania', 'RI': 'Rhode Island', 'SC': 'South Carolina', 'SD': 'South Dakota', 'TN': 'Tennessee', 'TX': 'Texas', 'UT': 'Utah', 'VT': 'Vermont', 'VA': 'Virginia', 'WA': 'Washington', 'WV': 'West Virginia', 'WI': 'Wisconsin', 'WY': 'Wyoming'}\n",
    "dataset1 = grouped_beds_df.rename(state_abbreviations)\n",
    "\n",
    "# Cast columns into integers\n",
    "dataset1 = dataset1.astype('int32')\n",
    "\n",
    "# View dataset and confirm accuracy\n",
    "#dataset1\n",
    "#dataset1.shape"
   ]
  },
  {
   "cell_type": "markdown",
   "metadata": {},
   "source": [
    "### COVID-19 Data by Date"
   ]
  },
  {
   "cell_type": "markdown",
   "metadata": {},
   "source": [
    "Because of the amount of datasets we could possibly use (one for each date), we decided to use a function where, given a date as a string, the function would return the dataset for that date, with an entry for each state. First, the function finds the columns to be used for analysis: 'State','Tests Administered', 'Infected', and 'Deaths'. Then, it renames all the original columns in the data to match those columns, and removes 9 entries that contain US territories we will not be analyzing. If for the given date there is no data for that state (i.e first case in that state has not been recorded yet), then all values for that entry will be filled as 0. Then, the function converts all values into an int and calculates a new column 'Mortality Rate' by dividing 'Deaths' by 'Infected'."
   ]
  },
  {
   "cell_type": "code",
   "execution_count": 4,
   "metadata": {},
   "outputs": [],
   "source": [
    "# Dataset showing the number of tests administered, number of people infected, number of deaths, and mortality rate\n",
    "# per state from Jan 22 to May 9\n",
    "\n",
    "# Source for dataset from Jan 22 to April 11:\n",
    "# https://github.com/CSSEGISandData/COVID-19/tree/master/csse_covid_19_data/csse_covid_19_daily_reports\n",
    "\n",
    "# Source for dataset from April 12 to May 9:\n",
    "# https://github.com/CSSEGISandData/COVID-19/tree/master/csse_covid_19_data/csse_covid_19_daily_reports_us\n",
    "\n",
    "# List of all states\n",
    "states = dataset1.index.tolist()\n",
    "\n",
    "# List of all dates in question\n",
    "dates = pd.date_range('01-22-2020', '05-09-2020').tolist()\n",
    "dates = [str(date.strftime('%m-%d-%Y'))[:10] for date in dates]\n",
    "\n",
    "# default values for each date\n",
    "default_data = []\n",
    "for index in range(len(states)):\n",
    "    default_data.append([states[index], 0, 0, 0, 0.0])\n",
    "df_date = pd.DataFrame(default_data, columns=['State','Tests Administered', 'Infected', 'Deaths', 'Mortality Rate'])\n",
    "df_date = df_date.set_index('State')\n",
    "\n",
    "# Function that outputs dataset for given date\n",
    "def retrieve_date(date):\n",
    "    # Check if the date is valid\n",
    "    if date not in dates:\n",
    "        return None\n",
    "\n",
    "    # Retrieve the dataset for give date\n",
    "    source_num = 1 if dates.index(date) < 81 else 2\n",
    "    link = 'https://raw.githubusercontent.com/CSSEGISandData/COVID-19/master/csse_covid_19_data/csse_covid_19_daily_reports/' + date + '.csv' if source_num == 1 else 'https://raw.githubusercontent.com/CSSEGISandData/COVID-19/master/csse_covid_19_data/csse_covid_19_daily_reports_us/' + date + '.csv'\n",
    "    df = pd.read_csv(link)\n",
    "\n",
    "    # Remove unnecessary columns and regions, renaming as needed\n",
    "    df = df.rename(columns={'Province_State': 'State', 'Province/State': 'State', 'Country_Region': 'Country/Region', 'Confirmed': 'Infected', 'People_Tested': 'Tests Administered'})\n",
    "    df = df[df['Country/Region'] == 'US']\n",
    "    df = df[['State', 'Country/Region', 'Infected', 'Deaths']] if source_num == 1 else df[['State', 'Country/Region', 'Infected', 'Deaths', 'Tests Administered']]\n",
    "    df = df.replace({'Chicago': 'Illinois', 'Washington, D.C.': 'District of Columbia'})\n",
    "    df = df[~df.State.str.contains('|'.join(['Princess', 'Puerto Rico', 'Virgin Islands', 'Guam', 'US', 'American Samoa', 'Northern Mariana Islands', 'Wuhan Evacuee', 'Recovered']))]\n",
    "    df['State'] = df.apply(lambda row: state_abb_strip(row.State.strip()) if row.State.find(',') != -1 else row.State, axis=1)\n",
    "\n",
    "    # Group same states together and rename the states\n",
    "    df = df.groupby('State').sum()\n",
    "    df = df.rename(state_abbreviations)\n",
    "\n",
    "    # Convert values to int\n",
    "    df = df.astype(int)\n",
    "\n",
    "    # merge dataset with preset default\n",
    "    merge_df = df_date.merge(df, how='outer', on='State')\n",
    "    merge_df = merge_df.fillna(0)\n",
    "    merge_df = merge_df.astype(int)\n",
    "    merge_df = merge_df[['Tests Administered', 'Infected_y', 'Deaths_y', 'Mortality Rate']] if source_num == 1 else merge_df[['Tests Administered_y', 'Infected_y', 'Deaths_y', 'Mortality Rate']]\n",
    "    merge_df = merge_df.rename(columns={'Infected_y': 'Infected', 'Deaths_y': 'Deaths', 'Tests Administered_y' : 'Tests Administered'})\n",
    "    merge_df['Mortality Rate'] = merge_df.apply(lambda row: row.Deaths / row.Infected if row.Deaths != 0 else row['Mortality Rate'], axis=1)\n",
    "\n",
    "    return merge_df\n",
    "\n",
    "# Example: how to retrieve a dataset from a date (e.g. April 12)\n",
    "#retrieve_date('05-09-2020')"
   ]
  },
  {
   "cell_type": "markdown",
   "metadata": {},
   "source": [
    "### State Geographic Size and Stay-at-Home Announcement"
   ]
  },
  {
   "cell_type": "markdown",
   "metadata": {},
   "source": [
    "We extracted the geographic size data renamed the 'state' column as 'State', and set it as the index. We also dropped 'Puerto Rico' as an entry, as we will not be analyzing US territories. We then extracted the stay-at-home data, and dropped all columns but 'location_name','stay_home_start_date'. We renamed 'location_name' as 'State', converted the 'stay_home_start_date' into a date string, and set the 'State' column as the index. We then merged the two datasets by index."
   ]
  },
  {
   "cell_type": "code",
   "execution_count": 5,
   "metadata": {},
   "outputs": [
    {
     "ename": "FileNotFoundError",
     "evalue": "[Errno 2] File b'state-areas.csv' does not exist: b'state-areas.csv'",
     "output_type": "error",
     "traceback": [
      "\u001b[0;31m---------------------------------------------------------------------------\u001b[0m",
      "\u001b[0;31mFileNotFoundError\u001b[0m                         Traceback (most recent call last)",
      "\u001b[0;32m<ipython-input-5-e2915c8f9c47>\u001b[0m in \u001b[0;36m<module>\u001b[0;34m\u001b[0m\n\u001b[1;32m      3\u001b[0m \u001b[0;31m# Size of each state (area in square miles)\u001b[0m\u001b[0;34m\u001b[0m\u001b[0;34m\u001b[0m\u001b[0;34m\u001b[0m\u001b[0m\n\u001b[1;32m      4\u001b[0m \u001b[0;31m# Source: https://github.com/jakevdp/data-USstates/blob/master/state-areas.csv\u001b[0m\u001b[0;34m\u001b[0m\u001b[0;34m\u001b[0m\u001b[0;34m\u001b[0m\u001b[0m\n\u001b[0;32m----> 5\u001b[0;31m \u001b[0msize\u001b[0m \u001b[0;34m=\u001b[0m \u001b[0mpd\u001b[0m\u001b[0;34m.\u001b[0m\u001b[0mread_csv\u001b[0m\u001b[0;34m(\u001b[0m\u001b[0;34m'state-areas.csv'\u001b[0m\u001b[0;34m)\u001b[0m\u001b[0;34m\u001b[0m\u001b[0;34m\u001b[0m\u001b[0m\n\u001b[0m\u001b[1;32m      6\u001b[0m \u001b[0msize\u001b[0m \u001b[0;34m=\u001b[0m \u001b[0msize\u001b[0m\u001b[0;34m.\u001b[0m\u001b[0mrename\u001b[0m\u001b[0;34m(\u001b[0m\u001b[0mcolumns\u001b[0m\u001b[0;34m=\u001b[0m\u001b[0;34m{\u001b[0m\u001b[0;34m'state'\u001b[0m\u001b[0;34m:\u001b[0m \u001b[0;34m'State'\u001b[0m\u001b[0;34m}\u001b[0m\u001b[0;34m)\u001b[0m\u001b[0;34m\u001b[0m\u001b[0;34m\u001b[0m\u001b[0m\n\u001b[1;32m      7\u001b[0m \u001b[0msize\u001b[0m\u001b[0;34m.\u001b[0m\u001b[0mset_index\u001b[0m\u001b[0;34m(\u001b[0m\u001b[0;34m[\u001b[0m\u001b[0;34m'State'\u001b[0m\u001b[0;34m]\u001b[0m\u001b[0;34m,\u001b[0m \u001b[0minplace\u001b[0m \u001b[0;34m=\u001b[0m \u001b[0;32mTrue\u001b[0m\u001b[0;34m)\u001b[0m\u001b[0;34m\u001b[0m\u001b[0;34m\u001b[0m\u001b[0m\n",
      "\u001b[0;32m~/opt/anaconda3/lib/python3.7/site-packages/pandas/io/parsers.py\u001b[0m in \u001b[0;36mparser_f\u001b[0;34m(filepath_or_buffer, sep, delimiter, header, names, index_col, usecols, squeeze, prefix, mangle_dupe_cols, dtype, engine, converters, true_values, false_values, skipinitialspace, skiprows, skipfooter, nrows, na_values, keep_default_na, na_filter, verbose, skip_blank_lines, parse_dates, infer_datetime_format, keep_date_col, date_parser, dayfirst, cache_dates, iterator, chunksize, compression, thousands, decimal, lineterminator, quotechar, quoting, doublequote, escapechar, comment, encoding, dialect, error_bad_lines, warn_bad_lines, delim_whitespace, low_memory, memory_map, float_precision)\u001b[0m\n\u001b[1;32m    683\u001b[0m         )\n\u001b[1;32m    684\u001b[0m \u001b[0;34m\u001b[0m\u001b[0m\n\u001b[0;32m--> 685\u001b[0;31m         \u001b[0;32mreturn\u001b[0m \u001b[0m_read\u001b[0m\u001b[0;34m(\u001b[0m\u001b[0mfilepath_or_buffer\u001b[0m\u001b[0;34m,\u001b[0m \u001b[0mkwds\u001b[0m\u001b[0;34m)\u001b[0m\u001b[0;34m\u001b[0m\u001b[0;34m\u001b[0m\u001b[0m\n\u001b[0m\u001b[1;32m    686\u001b[0m \u001b[0;34m\u001b[0m\u001b[0m\n\u001b[1;32m    687\u001b[0m     \u001b[0mparser_f\u001b[0m\u001b[0;34m.\u001b[0m\u001b[0m__name__\u001b[0m \u001b[0;34m=\u001b[0m \u001b[0mname\u001b[0m\u001b[0;34m\u001b[0m\u001b[0;34m\u001b[0m\u001b[0m\n",
      "\u001b[0;32m~/opt/anaconda3/lib/python3.7/site-packages/pandas/io/parsers.py\u001b[0m in \u001b[0;36m_read\u001b[0;34m(filepath_or_buffer, kwds)\u001b[0m\n\u001b[1;32m    455\u001b[0m \u001b[0;34m\u001b[0m\u001b[0m\n\u001b[1;32m    456\u001b[0m     \u001b[0;31m# Create the parser.\u001b[0m\u001b[0;34m\u001b[0m\u001b[0;34m\u001b[0m\u001b[0;34m\u001b[0m\u001b[0m\n\u001b[0;32m--> 457\u001b[0;31m     \u001b[0mparser\u001b[0m \u001b[0;34m=\u001b[0m \u001b[0mTextFileReader\u001b[0m\u001b[0;34m(\u001b[0m\u001b[0mfp_or_buf\u001b[0m\u001b[0;34m,\u001b[0m \u001b[0;34m**\u001b[0m\u001b[0mkwds\u001b[0m\u001b[0;34m)\u001b[0m\u001b[0;34m\u001b[0m\u001b[0;34m\u001b[0m\u001b[0m\n\u001b[0m\u001b[1;32m    458\u001b[0m \u001b[0;34m\u001b[0m\u001b[0m\n\u001b[1;32m    459\u001b[0m     \u001b[0;32mif\u001b[0m \u001b[0mchunksize\u001b[0m \u001b[0;32mor\u001b[0m \u001b[0miterator\u001b[0m\u001b[0;34m:\u001b[0m\u001b[0;34m\u001b[0m\u001b[0;34m\u001b[0m\u001b[0m\n",
      "\u001b[0;32m~/opt/anaconda3/lib/python3.7/site-packages/pandas/io/parsers.py\u001b[0m in \u001b[0;36m__init__\u001b[0;34m(self, f, engine, **kwds)\u001b[0m\n\u001b[1;32m    893\u001b[0m             \u001b[0mself\u001b[0m\u001b[0;34m.\u001b[0m\u001b[0moptions\u001b[0m\u001b[0;34m[\u001b[0m\u001b[0;34m\"has_index_names\"\u001b[0m\u001b[0;34m]\u001b[0m \u001b[0;34m=\u001b[0m \u001b[0mkwds\u001b[0m\u001b[0;34m[\u001b[0m\u001b[0;34m\"has_index_names\"\u001b[0m\u001b[0;34m]\u001b[0m\u001b[0;34m\u001b[0m\u001b[0;34m\u001b[0m\u001b[0m\n\u001b[1;32m    894\u001b[0m \u001b[0;34m\u001b[0m\u001b[0m\n\u001b[0;32m--> 895\u001b[0;31m         \u001b[0mself\u001b[0m\u001b[0;34m.\u001b[0m\u001b[0m_make_engine\u001b[0m\u001b[0;34m(\u001b[0m\u001b[0mself\u001b[0m\u001b[0;34m.\u001b[0m\u001b[0mengine\u001b[0m\u001b[0;34m)\u001b[0m\u001b[0;34m\u001b[0m\u001b[0;34m\u001b[0m\u001b[0m\n\u001b[0m\u001b[1;32m    896\u001b[0m \u001b[0;34m\u001b[0m\u001b[0m\n\u001b[1;32m    897\u001b[0m     \u001b[0;32mdef\u001b[0m \u001b[0mclose\u001b[0m\u001b[0;34m(\u001b[0m\u001b[0mself\u001b[0m\u001b[0;34m)\u001b[0m\u001b[0;34m:\u001b[0m\u001b[0;34m\u001b[0m\u001b[0;34m\u001b[0m\u001b[0m\n",
      "\u001b[0;32m~/opt/anaconda3/lib/python3.7/site-packages/pandas/io/parsers.py\u001b[0m in \u001b[0;36m_make_engine\u001b[0;34m(self, engine)\u001b[0m\n\u001b[1;32m   1133\u001b[0m     \u001b[0;32mdef\u001b[0m \u001b[0m_make_engine\u001b[0m\u001b[0;34m(\u001b[0m\u001b[0mself\u001b[0m\u001b[0;34m,\u001b[0m \u001b[0mengine\u001b[0m\u001b[0;34m=\u001b[0m\u001b[0;34m\"c\"\u001b[0m\u001b[0;34m)\u001b[0m\u001b[0;34m:\u001b[0m\u001b[0;34m\u001b[0m\u001b[0;34m\u001b[0m\u001b[0m\n\u001b[1;32m   1134\u001b[0m         \u001b[0;32mif\u001b[0m \u001b[0mengine\u001b[0m \u001b[0;34m==\u001b[0m \u001b[0;34m\"c\"\u001b[0m\u001b[0;34m:\u001b[0m\u001b[0;34m\u001b[0m\u001b[0;34m\u001b[0m\u001b[0m\n\u001b[0;32m-> 1135\u001b[0;31m             \u001b[0mself\u001b[0m\u001b[0;34m.\u001b[0m\u001b[0m_engine\u001b[0m \u001b[0;34m=\u001b[0m \u001b[0mCParserWrapper\u001b[0m\u001b[0;34m(\u001b[0m\u001b[0mself\u001b[0m\u001b[0;34m.\u001b[0m\u001b[0mf\u001b[0m\u001b[0;34m,\u001b[0m \u001b[0;34m**\u001b[0m\u001b[0mself\u001b[0m\u001b[0;34m.\u001b[0m\u001b[0moptions\u001b[0m\u001b[0;34m)\u001b[0m\u001b[0;34m\u001b[0m\u001b[0;34m\u001b[0m\u001b[0m\n\u001b[0m\u001b[1;32m   1136\u001b[0m         \u001b[0;32melse\u001b[0m\u001b[0;34m:\u001b[0m\u001b[0;34m\u001b[0m\u001b[0;34m\u001b[0m\u001b[0m\n\u001b[1;32m   1137\u001b[0m             \u001b[0;32mif\u001b[0m \u001b[0mengine\u001b[0m \u001b[0;34m==\u001b[0m \u001b[0;34m\"python\"\u001b[0m\u001b[0;34m:\u001b[0m\u001b[0;34m\u001b[0m\u001b[0;34m\u001b[0m\u001b[0m\n",
      "\u001b[0;32m~/opt/anaconda3/lib/python3.7/site-packages/pandas/io/parsers.py\u001b[0m in \u001b[0;36m__init__\u001b[0;34m(self, src, **kwds)\u001b[0m\n\u001b[1;32m   1915\u001b[0m         \u001b[0mkwds\u001b[0m\u001b[0;34m[\u001b[0m\u001b[0;34m\"usecols\"\u001b[0m\u001b[0;34m]\u001b[0m \u001b[0;34m=\u001b[0m \u001b[0mself\u001b[0m\u001b[0;34m.\u001b[0m\u001b[0musecols\u001b[0m\u001b[0;34m\u001b[0m\u001b[0;34m\u001b[0m\u001b[0m\n\u001b[1;32m   1916\u001b[0m \u001b[0;34m\u001b[0m\u001b[0m\n\u001b[0;32m-> 1917\u001b[0;31m         \u001b[0mself\u001b[0m\u001b[0;34m.\u001b[0m\u001b[0m_reader\u001b[0m \u001b[0;34m=\u001b[0m \u001b[0mparsers\u001b[0m\u001b[0;34m.\u001b[0m\u001b[0mTextReader\u001b[0m\u001b[0;34m(\u001b[0m\u001b[0msrc\u001b[0m\u001b[0;34m,\u001b[0m \u001b[0;34m**\u001b[0m\u001b[0mkwds\u001b[0m\u001b[0;34m)\u001b[0m\u001b[0;34m\u001b[0m\u001b[0;34m\u001b[0m\u001b[0m\n\u001b[0m\u001b[1;32m   1918\u001b[0m         \u001b[0mself\u001b[0m\u001b[0;34m.\u001b[0m\u001b[0munnamed_cols\u001b[0m \u001b[0;34m=\u001b[0m \u001b[0mself\u001b[0m\u001b[0;34m.\u001b[0m\u001b[0m_reader\u001b[0m\u001b[0;34m.\u001b[0m\u001b[0munnamed_cols\u001b[0m\u001b[0;34m\u001b[0m\u001b[0;34m\u001b[0m\u001b[0m\n\u001b[1;32m   1919\u001b[0m \u001b[0;34m\u001b[0m\u001b[0m\n",
      "\u001b[0;32mpandas/_libs/parsers.pyx\u001b[0m in \u001b[0;36mpandas._libs.parsers.TextReader.__cinit__\u001b[0;34m()\u001b[0m\n",
      "\u001b[0;32mpandas/_libs/parsers.pyx\u001b[0m in \u001b[0;36mpandas._libs.parsers.TextReader._setup_parser_source\u001b[0;34m()\u001b[0m\n",
      "\u001b[0;31mFileNotFoundError\u001b[0m: [Errno 2] File b'state-areas.csv' does not exist: b'state-areas.csv'"
     ]
    }
   ],
   "source": [
    "# Dataset showing size of each state and when stay at home was issued\n",
    "\n",
    "# Size of each state (area in square miles)\n",
    "# Source: https://github.com/jakevdp/data-USstates/blob/master/state-areas.csv\n",
    "size = pd.read_csv('state-areas.csv')\n",
    "size = size.rename(columns={'state': 'State'})\n",
    "size.set_index(['State'], inplace = True)\n",
    "size = size.drop(index = ['Puerto Rico'])\n",
    "\n",
    "# Stay at home issued\n",
    "# Source: https://covid19.healthdata.org/united-states-of-america\n",
    "stayHome = pd.read_csv('Summary_stats_all_locs.csv')\n",
    "stayHome = stayHome[['location_name','stay_home_start_date']]\n",
    "stayHome = stayHome.rename(columns={'location_name':'State'})\n",
    "stayHome['stay_home_start_date'] = pd.to_datetime(stayHome['stay_home_start_date']).dt.strftime('%m-%d-%y')\n",
    "stayHome.set_index(['State'], inplace = True)\n",
    "\n",
    "# Merge the two datasets to size, which has the correct states\n",
    "# States with no official 'stay at home order issued' have the entry NaN\n",
    "dataset3 = size.merge(stayHome, 'left', on = 'State')\n",
    "\n",
    "# View dataset and confirm accuracy\n",
    "#dataset3\n",
    "#dataset3.shape"
   ]
  },
  {
   "cell_type": "markdown",
   "metadata": {},
   "source": [
    "# Data Analysis & Results"
   ]
  },
  {
   "cell_type": "markdown",
   "metadata": {},
   "source": [
    "In all our analyses, we used the measure that a p-value must be less than 0.05 in order to be considered significant."
   ]
  },
  {
   "cell_type": "markdown",
   "metadata": {},
   "source": [
    "### Number of Hospital Beds vs Mortality Rate"
   ]
  },
  {
   "cell_type": "code",
   "execution_count": null,
   "metadata": {},
   "outputs": [],
   "source": [
    "# Show relationship between Hospital Beds and Mortality Rate\n",
    "\n",
    "merged.plot.scatter(x=\"Total Hospital Beds\", y=\"Mortality Rate\")\n",
    "plt.plot(np.unique(merged['Total Hospital Beds']), np.poly1d(np.polyfit(merged['Total Hospital Beds'], merged['Mortality Rate'], 1))(np.unique(merged['Total Hospital Beds'])))\n",
    "r_squared = merged.corr().loc['Total Hospital Beds', 'Mortality Rate']\n",
    "plt.text(40000, 0.09, 'R-squared = %0.4f' % r_squared)"
   ]
  },
  {
   "cell_type": "markdown",
   "metadata": {},
   "source": [
    "### Population Density vs Mortality Rate"
   ]
  },
  {
   "cell_type": "code",
   "execution_count": null,
   "metadata": {},
   "outputs": [],
   "source": [
    "# Show relationship between proportion of elderly and mortality rate\n",
    "\n",
    "merged.plot.scatter(x=\"Population Density\", y=\"Mortality Rate\")\n",
    "plt.plot(np.unique(merged['Population Density']), np.poly1d(np.polyfit(merged['Population Density'], merged['Mortality Rate'], 1))(np.unique(merged['Population Density'])))\n",
    "r_squared = merged.corr().loc['Population Density', 'Mortality Rate']\n",
    "plt.text(0.20, 0.075, 'R-squared = %0.4f' % r_squared)"
   ]
  },
  {
   "cell_type": "code",
   "execution_count": null,
   "metadata": {},
   "outputs": [],
   "source": []
  },
  {
   "cell_type": "code",
   "execution_count": null,
   "metadata": {},
   "outputs": [],
   "source": []
  },
  {
   "cell_type": "code",
   "execution_count": null,
   "metadata": {},
   "outputs": [],
   "source": []
  },
  {
   "cell_type": "code",
   "execution_count": null,
   "metadata": {},
   "outputs": [],
   "source": []
  },
  {
   "cell_type": "code",
   "execution_count": null,
   "metadata": {},
   "outputs": [],
   "source": []
  },
  {
   "cell_type": "code",
   "execution_count": null,
   "metadata": {},
   "outputs": [],
   "source": []
  },
  {
   "cell_type": "markdown",
   "metadata": {},
   "source": [
    "## Confounding Variables"
   ]
  },
  {
   "cell_type": "markdown",
   "metadata": {},
   "source": [
    "We acknowledged that in our analysis, there may be several confounding variables that affect the results. So, we decided to analyze these variables to see what effect they may have on our results."
   ]
  },
  {
   "cell_type": "markdown",
   "metadata": {},
   "source": [
    "### Confounding Variable (Positive Test Rate)  \n",
    "We found the relationship between positive test rate and total hospital beds, as well as between positive test rate and mortality rate, and compared the two relationships.\n",
    "We also looked at how both variables affect mortality rate, and concluded that there is a relationship between positive test rate and mortality rate by looking at the p-values (the p-value for positive test rate was less than 0.05). Therefore, we can conclude that positive test rate is a confounding variable."
   ]
  },
  {
   "cell_type": "code",
   "execution_count": null,
   "metadata": {},
   "outputs": [],
   "source": [
    "# Show relationship between total hospital beds and positive test rate\n",
    "\n",
    "merged.plot.scatter(x=\"Positive Test Rate\", y=\"Total Hospital Beds\")\n",
    "plt.plot(np.unique(merged['Positive Test Rate']), np.poly1d(np.polyfit(merged['Positive Test Rate'], merged['Total Hospital Beds'], 1))(np.unique(merged['Positive Test Rate'])))\n",
    "r_squared = merged.corr().loc['Positive Test Rate', 'Total Hospital Beds']\n",
    "plt.text(0.3, 28000, 'R-squared = %0.2f' % r_squared)"
   ]
  },
  {
   "cell_type": "code",
   "execution_count": null,
   "metadata": {},
   "outputs": [],
   "source": [
    "# Show relationship between mortality rate and positive test rate\n",
    "\n",
    "merged.plot.scatter(x=\"Positive Test Rate\", y=\"Mortality Rate\")\n",
    "plt.plot(np.unique(merged['Positive Test Rate']), np.poly1d(np.polyfit(merged['Positive Test Rate'], merged['Mortality Rate'], 1))(np.unique(merged['Positive Test Rate'])))\n",
    "r_squared = merged.corr().loc['Positive Test Rate', 'Mortality Rate']\n",
    "plt.text(0.32, 0.085, 'R-squared = %0.2f' % r_squared)"
   ]
  },
  {
   "cell_type": "code",
   "execution_count": null,
   "metadata": {},
   "outputs": [],
   "source": [
    "outcome, predictors = patsy.dmatrices(\"Q('Mortality Rate') ~ Q('Total Hospital Beds') + Q('Positive Test Rate')\", merged)\n",
    "mod = sm.OLS(outcome, predictors)\n",
    "res = mod.fit()\n",
    "print(res.summary())"
   ]
  },
  {
   "cell_type": "markdown",
   "metadata": {},
   "source": [
    "### Confounding Variable (Age)  \n",
    "We found the relationship between proportion of elderly and total hospital beds, as well as between proportion of elderly and mortality rate, and compared the two relationships.\n",
    "We also looked at how both variables affect mortality rate, and concluded that there is not a relationship between proportion of elderly and mortality rate by looking at the p-values (the p-value for positive test rate was less than 0.05). Therefore, we can conclude that the proportion of elderly is not a confounding variable."
   ]
  },
  {
   "cell_type": "code",
   "execution_count": null,
   "metadata": {},
   "outputs": [],
   "source": [
    "# Show relationship between proportion of elderly and total hospital beds\n",
    "\n",
    "merged.plot.scatter(x=\"Proportion of Elderly\", y=\"Total Hospital Beds\")\n",
    "plt.plot(np.unique(merged['Proportion of Elderly']), np.poly1d(np.polyfit(merged['Proportion of Elderly'], merged['Total Hospital Beds'], 1))(np.unique(merged['Proportion of Elderly'])))\n",
    "r_squared = merged.corr().loc['Proportion of Elderly', 'Total Hospital Beds']\n",
    "plt.text(0.209, 18000, 'R-squared = %0.4f' % r_squared)"
   ]
  },
  {
   "cell_type": "code",
   "execution_count": null,
   "metadata": {},
   "outputs": [],
   "source": [
    "# Show relationship between proportion of elderly and mortality rate\n",
    "\n",
    "merged.plot.scatter(x=\"Proportion of Elderly\", y=\"Mortality Rate\")\n",
    "plt.plot(np.unique(merged['Proportion of Elderly']), np.poly1d(np.polyfit(merged['Proportion of Elderly'], merged['Mortality Rate'], 1))(np.unique(merged['Proportion of Elderly'])))\n",
    "r_squared = merged.corr().loc['Proportion of Elderly', 'Mortality Rate']\n",
    "plt.text(0.20, 0.075, 'R-squared = %0.4f' % r_squared)"
   ]
  },
  {
   "cell_type": "code",
   "execution_count": null,
   "metadata": {},
   "outputs": [],
   "source": [
    "outcome, predictors = patsy.dmatrices(\"Q('Mortality Rate') ~ Q('Total Hospital Beds') + Q('Proportion of Elderly')\", merged)\n",
    "mod = sm.OLS(outcome, predictors)\n",
    "res = mod.fit()\n",
    "print(res.summary())\n",
    "\n",
    "# note for Tesia: not confounding with the relationship between total hospital beds and mortality rate \n",
    "# (look at coefficients, p values are also > 0.05)"
   ]
  },
  {
   "cell_type": "markdown",
   "metadata": {},
   "source": [
    "### Confounding Variable (Stay at home order, issued vs not issued)  \n",
    "To account for the potential confounding variable of if the state issued a stay-at-home order, we split the states into two groups: those that did issue and those that did not issue a stay-at-home order. We then looked at what the relationship was between total hospital beds and mortality rate for each group. The correlation for states without a stay-at-home order was significantly higher than that of states with a stay-at-home order. However, we cannot draw a meaningful conclusion from this because there are significantly less data points for the group that did not issue a stay-at-home order."
   ]
  },
  {
   "cell_type": "code",
   "execution_count": null,
   "metadata": {},
   "outputs": [],
   "source": [
    "# convert stay_home_start_date column to a datetime object\n",
    "merged['stay_home_start_date'] = pd.to_datetime(merged['stay_home_start_date'])"
   ]
  },
  {
   "cell_type": "code",
   "execution_count": null,
   "metadata": {},
   "outputs": [],
   "source": [
    "# dataframe with only states that issued a stay at home order\n",
    "stay_at_home_states = merged[merged['stay_home_start_date'].notnull()]\n",
    "\n",
    "# dataframe with only states that did not issue a stay at home order\n",
    "stay_at_home_none = merged[merged['stay_home_start_date'].isnull()]"
   ]
  },
  {
   "cell_type": "code",
   "execution_count": null,
   "metadata": {},
   "outputs": [],
   "source": [
    "# relationship between total hospital beds and mortality rate for states that issued stay at home order\n",
    "stay_at_home_states.plot.scatter(x=\"Total Hospital Beds\", y=\"Mortality Rate\")\n",
    "plt.plot(np.unique(stay_at_home_states['Total Hospital Beds']), np.poly1d(np.polyfit(stay_at_home_states['Total Hospital Beds'], stay_at_home_states['Mortality Rate'], 1))(np.unique(stay_at_home_states['Total Hospital Beds'])))\n",
    "r_squared = stay_at_home_states.corr().loc['Total Hospital Beds', 'Mortality Rate']\n",
    "plt.text(45000, 0.06, 'R-squared = %0.4f' % r_squared)\n",
    "\n",
    "# mean mortality rate for states with stay at home order\n",
    "stay_at_home_states['Mortality Rate'].mean()"
   ]
  },
  {
   "cell_type": "code",
   "execution_count": null,
   "metadata": {},
   "outputs": [],
   "source": [
    "# relationship between total hospital beds and mortality rate for states that did not issue stay at home order\n",
    "stay_at_home_none.plot.scatter(x=\"Total Hospital Beds\", y=\"Mortality Rate\")\n",
    "plt.plot(np.unique(stay_at_home_none['Total Hospital Beds']), np.poly1d(np.polyfit(stay_at_home_none['Total Hospital Beds'], stay_at_home_none['Mortality Rate'], 1))(np.unique(stay_at_home_none['Total Hospital Beds'])))\n",
    "r_squared = stay_at_home_none.corr().loc['Total Hospital Beds', 'Mortality Rate']\n",
    "plt.text(9000, 0.0325, 'R-squared = %0.4f' % r_squared)\n",
    "\n",
    "# mean mortality rate for states without stay at home order\n",
    "stay_at_home_none['Mortality Rate'].mean()\n",
    "\n",
    "# note for Tesia: although correlation is higher for states with no stay at home order, it might just be because \n",
    "# there are more data points for the states with stay at home order (39 states vs 12 states). Can't determine whether\n",
    "# the issue of the stay of home order played a factor in the relationship between total hospital beds and mortality \n",
    "# rate. Also, the mean for mortality rate is lower for states that did not issue stay at home order, which is \n",
    "# interesting"
   ]
  },
  {
   "cell_type": "markdown",
   "metadata": {},
   "source": [
    "### Confounding Variable (Stay at home order, date issued for states that have one)"
   ]
  },
  {
   "cell_type": "code",
   "execution_count": null,
   "metadata": {},
   "outputs": [],
   "source": [
    "# find the number of days passed since the stay at home order (May 9 is the end date)\n",
    "stay_at_home_states = stay_at_home_states.assign(\n",
    "    **{'Days passed':(pd.to_datetime('05-09-20') - stay_at_home_states['stay_home_start_date']).dt.days})"
   ]
  },
  {
   "cell_type": "code",
   "execution_count": null,
   "metadata": {},
   "outputs": [],
   "source": [
    "# Show relationship between days passed and total hospital beds\n",
    "\n",
    "stay_at_home_states.plot.scatter(x=\"Days passed\", y=\"Total Hospital Beds\")\n",
    "plt.plot(np.unique(stay_at_home_states['Days passed']), np.poly1d(np.polyfit(stay_at_home_states['Days passed'], stay_at_home_states['Total Hospital Beds'], 1))(np.unique(stay_at_home_states['Days passed'])))\n",
    "r_squared = stay_at_home_states.corr().loc['Days passed', 'Total Hospital Beds']\n",
    "plt.text(45, 40000, 'R-squared = %0.4f' % r_squared)"
   ]
  },
  {
   "cell_type": "code",
   "execution_count": null,
   "metadata": {},
   "outputs": [],
   "source": [
    "# Show relationship between days passed and mortality rate\n",
    "\n",
    "stay_at_home_states.plot.scatter(x=\"Days passed\", y=\"Mortality Rate\")\n",
    "plt.plot(np.unique(stay_at_home_states['Days passed']), np.poly1d(np.polyfit(stay_at_home_states['Days passed'], stay_at_home_states['Mortality Rate'], 1))(np.unique(stay_at_home_states['Days passed'])))\n",
    "r_squared = stay_at_home_states.corr().loc['Days passed', 'Mortality Rate']\n",
    "plt.text(45, 0.017, 'R-squared = %0.4f' % r_squared)"
   ]
  },
  {
   "cell_type": "code",
   "execution_count": null,
   "metadata": {},
   "outputs": [],
   "source": [
    "outcome, predictors = patsy.dmatrices(\"Q('Mortality Rate') ~ Q('Total Hospital Beds') + Q('Days passed')\", stay_at_home_states)\n",
    "mod = sm.OLS(outcome, predictors)\n",
    "res = mod.fit()\n",
    "print(res.summary())\n",
    "\n",
    "# note for Tesia: not confounding with the relationship between total hospital beds and mortality rate \n",
    "# (look at coefficients, and p-values > 0.05)"
   ]
  },
  {
   "cell_type": "markdown",
   "metadata": {},
   "source": [
    "# Ethics & Privacy"
   ]
  },
  {
   "cell_type": "markdown",
   "metadata": {},
   "source": [
    "The data for the number of hospital beds per hospital, the mortality rate of COVID-19, the population size of a given state or city, or the number of infections in the area should have no privacy concerns when getting the data. All of these values will simply be numbers without any information that can identify individuals. However, the data for the population size of a given city or state could be biased depending on how the data was retrieved from the source. For example, if the data was collected based on the number of people that own a phone, the percentage of the population without a phone will not be included in that number. Also, the number of infections in a certain area could also be biased as there will most likely be more people infected than the actual number that is gathered by the hospital or authorities. If we do find issues regarding the concern of privacy from our data, we will have to omit the data in our calculations or go ahead and find a new dataset to use.\n",
    "\n",
    "There can be potential ethical concerns related to racism, political affiliation of individual states, or age related discrimination. Our data will leave out state names to help reduce the chances of people misconstruing data.\n"
   ]
  },
  {
   "cell_type": "markdown",
   "metadata": {},
   "source": [
    "# Conclusion & Discussion"
   ]
  },
  {
   "cell_type": "markdown",
   "metadata": {},
   "source": [
    "*Fill in your discussion information here*"
   ]
  },
  {
   "cell_type": "markdown",
   "metadata": {},
   "source": [
    "# Team Contributions"
   ]
  },
  {
   "cell_type": "markdown",
   "metadata": {},
   "source": [
    "*Specify who in your group worked on which parts of the project.*"
   ]
  }
 ],
 "metadata": {
  "kernelspec": {
   "display_name": "Python 3",
   "language": "python",
   "name": "python3"
  },
  "language_info": {
   "codemirror_mode": {
    "name": "ipython",
    "version": 3
   },
   "file_extension": ".py",
   "mimetype": "text/x-python",
   "name": "python",
   "nbconvert_exporter": "python",
   "pygments_lexer": "ipython3",
   "version": "3.7.4"
  }
 },
 "nbformat": 4,
 "nbformat_minor": 2
}
