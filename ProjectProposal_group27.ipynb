{
 "cells": [
  {
   "cell_type": "markdown",
   "metadata": {},
   "source": [
    "# COGS 108 - Final Project Proposal"
   ]
  },
  {
   "cell_type": "markdown",
   "metadata": {},
   "source": [
    "# Names\n",
    "\n",
    "- Stephen Lee\n",
    "- Jeffrey Lau\n",
    "- Lance Mashita\n",
    "- Tesia Huang\n",
    "- Richard Liu"
   ]
  },
  {
   "cell_type": "markdown",
   "metadata": {},
   "source": [
    "# Group Members IDs\n",
    "\n",
    "- A15463469\n",
    "- A13984300\n",
    "- A14655621\n",
    "- A13942686\n",
    "- A13496408"
   ]
  },
  {
   "cell_type": "markdown",
   "metadata": {},
   "source": [
    "# Research Question"
   ]
  },
  {
   "cell_type": "markdown",
   "metadata": {},
   "source": [
    "What is the relationship between the number of hospital beds and the mortality rate for populations affected by COVID-19? What is the effect of population size and the number of infections on this relationship?"
   ]
  },
  {
   "cell_type": "markdown",
   "metadata": {},
   "source": [
    "## Background and Prior Work"
   ]
  },
  {
   "cell_type": "markdown",
   "metadata": {},
   "source": [
    "COVID-19 is perhaps one of the most pervasive news topics these past few months. This new disease has dramatically impacted how society functions and can be felt by everyone. As a result, our group decided that we would try to help aid with sorting through the vast information (and misinformation) revolving around COVID-19. There have been a lot of projects done on mapping the spread of COVID-19 and extrapolating future infections based on that data. One notable example goes to John Hopkins CSSE department, who helped visualize the spread of COVID-19 across the world1. There has been a lot of talk about ‘social distancing’ to help lower the spread of coronavirus in the hopes that spreading out the cases will increase the ability for hospitals to treat patients effectively. This is extremely important, as this can be a deadly situation for patients without proper healthcare2. It is estimated that 20-60% of the population in the US will be infected by coronavirus by the time the disease has run its course2. It is painfully obvious that hospitals are ill prepared to deal with such drastic spikes in the number of patients. \n",
    "\tKnowing that, we were intrigued by the actual impact hospital size had on COVID-19 mortality rates. We want to hopefully draw out a clearer relationship between the number of hospital beds and the mortality rate in that area. Helping determine the influences hospital sizes have on mortality rate, and possibly finding other factors that affect the efficacy of hospitals, can help people of interest triage their resources to minimize the negative effects of COVID-19.\n",
    "\n",
    "References (include links):\n",
    "- 1) https://coronavirus.jhu.edu/map.html\n",
    "- 2) https://www.healthaffairs.org/do/10.1377/hblog20200317.457910/full/"
   ]
  },
  {
   "cell_type": "markdown",
   "metadata": {},
   "source": [
    "# Hypothesis\n"
   ]
  },
  {
   "cell_type": "markdown",
   "metadata": {},
   "source": [
    "We hypothesize that there will be a negative correlation between the number of available hospital beds and the mortality rate for COVID-19.  We predict that increasing population size will increase the mortality rate and that increasing the number of infections will reduce the negative correlation the number of available hospital beds have on mortality rate. More hospital beds means better healthcare for the sick, but increasing population size and number of infections can overwhelm hospitals, which reduces the efficacy of their carrying capacity."
   ]
  },
  {
   "cell_type": "markdown",
   "metadata": {},
   "source": [
    "# Data"
   ]
  },
  {
   "cell_type": "markdown",
   "metadata": {},
   "source": [
    "The variables that our ideal dataset would have are the US state, the number of hospital beds, mortality and infection rate for COVID-19, and population size (segregated by age brackets). The data would be stored in a dataset that is easy to analyze (like a csv file), and each observation would not have any column where there’s no data (no null values). Each observation would correspond to each state, so there would be fifty in total."
   ]
  },
  {
   "cell_type": "markdown",
   "metadata": {},
   "source": [
    "# Ethics & Privacy"
   ]
  },
  {
   "cell_type": "markdown",
   "metadata": {},
   "source": [
    "The data for the number of hospital beds per hospital, the mortality rate of COVID-19, the population size of a given state or city, or the number of infections in the area should have no privacy concerns when getting the data. All of these values will simply be numbers without any information that can identify individuals. However, the data for the population size of a given city or state could be biased depending on how the data was retrieved from the source. For example, if the data was collected based on the number of people that own a phone, the percentage of the population without a phone will not be included in that number. Also, the number of infections in a certain area could also be biased as there will most likely be more people infected than the actual number that is gathered by the hospital or authorities. If we do find issues regarding the concern of privacy from our data, we will have to omit the data in our calculations or go ahead and find a new dataset to use."
   ]
  },
  {
   "cell_type": "markdown",
   "metadata": {},
   "source": [
    "# Team Expectations "
   ]
  },
  {
   "cell_type": "markdown",
   "metadata": {},
   "source": [
    "* Respect other team members.\n",
    "* Communicate if any issues arise (cannot finish a given task, family emergency, etc.)\n",
    "* Meet weekly to discuss work distribution and project updates. (Online via Zoom conference meetings, messaging via Facebook Messenger, data sharing via Google Drive and github)"
   ]
  },
  {
   "cell_type": "markdown",
   "metadata": {},
   "source": [
    "# Project Timeline Proposal"
   ]
  },
  {
   "cell_type": "markdown",
   "metadata": {},
   "source": [
    "| Meeting Date | Meeting Time | Completed Before Meeting | Discuss at Meeting |\n",
    "|---|---|---|---|\n",
    "| 4/20 | 4 PM | N/A | Start on proposal, assign the work for the proposal | \n",
    "| 4/27 | 4 PM | Finish the project proposal and start looking for datasets pertaining to the project | Compare different datasets and discuss which ones are good to use | \n",
    "| 5/4 | 4 PM | Found dataset | Import/Wrangle data |\n",
    "| 5/11 | 4 PM | Import and clean dataset | Discuss how we can utilize the cleaned dataset |\n",
    "| 5/18 | 4 PM | Describe data and brainstorm different tests we can use to analyze the data | Discuss our analysis plan and assign tasks to each member |\n",
    "| 5/25 | 4 PM | Finish code for analysis and visualizations | Continue analysis/visualizations |\n",
    "| 6/1 | 4 PM | Complete analysis | Check in and see if there are any final changes we want to make |\n",
    "| 6/8 | 4 PM | Finalize conclusion / Clean Jupyter Notebook | Submit Final Project & Group Project Surveys |"
   ]
  }
 ],
 "metadata": {
  "kernelspec": {
   "display_name": "Python 3",
   "language": "python",
   "name": "python3"
  },
  "language_info": {
   "codemirror_mode": {
    "name": "ipython",
    "version": 3
   },
   "file_extension": ".py",
   "mimetype": "text/x-python",
   "name": "python",
   "nbconvert_exporter": "python",
   "pygments_lexer": "ipython3",
   "version": "3.6.7"
  }
 },
 "nbformat": 4,
 "nbformat_minor": 2
}
